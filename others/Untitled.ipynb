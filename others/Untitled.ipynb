{
 "cells": [
  {
   "cell_type": "code",
   "execution_count": 2,
   "metadata": {},
   "outputs": [],
   "source": [
    "import numpy as np\n",
    "import pandas as pd\n",
    "import matplotlib.pyplot as plt\n",
    "from mpl_toolkits.mplot3d import Axes3D\n",
    "from scipy.stats import random_correlation\n",
    "from tqdm import tqdm\n",
    "\n",
    "from curves import *\n",
    "from volatility import *\n",
    "from correlation import *\n",
    "from ratemodels import *"
   ]
  },
  {
   "cell_type": "code",
   "execution_count": 3,
   "metadata": {},
   "outputs": [
    {
     "data": {
      "text/plain": [
       "array([0.        , 0.3171615 , 0.56337124, 0.2248542 ])"
      ]
     },
     "execution_count": 3,
     "metadata": {},
     "output_type": "execute_result"
    }
   ],
   "source": [
    "libor_curve, ois_curve = curve_builder()\n",
    "cap_vol = pd.read_excel('project_data.xlsx',sheet_name='caps vol', index_col='Tenor')\n",
    "t, vol = cap_vol.index.values, cap_vol.ATM.values/100\n",
    "historical_rates = pd.read_excel('project_data.xlsx',sheet_name='historical f', index_col='Date')\n",
    "spot_data = {'ois_curve': ois_curve,\n",
    "            'libor_curve':libor_curve,\n",
    "            'cap_vol': (t, vol),\n",
    "            'historical_rates': historical_rates}\n",
    "options = {'r_interp':  {'kernel':'MCS','extrapolate':True},\n",
    "           'df_interp': {'kernel':'MCS','extrapolate':True},\n",
    "           'vol_interp':{'kernel':'MCS','extrapolate':True},\n",
    "           'corr_factors': 'all'}\n",
    "vol_boost =  CapletVolStrip(spot_data, options['vol_interp'])\n",
    "t, stripped_vol = vol_boost.strip(spot_data['cap_vol'][0],spot_data['cap_vol'][1], display=False)\n",
    "vol_func = ParametricVolatility()\n",
    "vol_func.fit(t,stripped_vol)"
   ]
  },
  {
   "cell_type": "code",
   "execution_count": 4,
   "metadata": {
    "scrolled": true
   },
   "outputs": [
    {
     "name": "stderr",
     "output_type": "stream",
     "text": [
      "100%|█████████████████████████████████████████████████████████████████████████| 100000/100000 [02:49<00:00, 588.97it/s]\n"
     ]
    }
   ],
   "source": [
    "x = 5\n",
    "options['T'] = x\n",
    "model = LiborMarketModel(options)\n",
    "model.calibrate(spot_data)\n",
    "model.simulate(n_sim=100000)"
   ]
  },
  {
   "cell_type": "code",
   "execution_count": 5,
   "metadata": {
    "scrolled": true
   },
   "outputs": [
    {
     "name": "stdout",
     "output_type": "stream",
     "text": [
      "           0         1         2         3         4         5         6  \\\n",
      "0   0.019112  0.017221  0.016944  0.016606  0.017083  0.017182  0.017693   \n",
      "1        NaN  0.016606  0.016806  0.014392  0.014271  0.014336  0.015778   \n",
      "2        NaN       NaN  0.016761  0.015496  0.012615  0.012303  0.015105   \n",
      "3        NaN       NaN       NaN  0.019851  0.017083  0.017732  0.017402   \n",
      "4        NaN       NaN       NaN       NaN  0.012517  0.011756  0.011680   \n",
      "5        NaN       NaN       NaN       NaN       NaN  0.008342  0.007829   \n",
      "6        NaN       NaN       NaN       NaN       NaN       NaN  0.010035   \n",
      "7        NaN       NaN       NaN       NaN       NaN       NaN       NaN   \n",
      "8        NaN       NaN       NaN       NaN       NaN       NaN       NaN   \n",
      "9        NaN       NaN       NaN       NaN       NaN       NaN       NaN   \n",
      "10       NaN       NaN       NaN       NaN       NaN       NaN       NaN   \n",
      "\n",
      "           7         8         9  \n",
      "0   0.018284  0.018504  0.018888  \n",
      "1   0.016290  0.016186  0.016595  \n",
      "2   0.015618  0.013154  0.013693  \n",
      "3   0.017762  0.017529  0.018130  \n",
      "4   0.011777  0.011297  0.011700  \n",
      "5   0.007620  0.006841  0.007113  \n",
      "6   0.010006  0.008054  0.008160  \n",
      "7   0.008789  0.006732  0.006747  \n",
      "8        NaN  0.007245  0.007316  \n",
      "9        NaN       NaN  0.006013  \n",
      "10       NaN       NaN       NaN  \n",
      "0.006013363452093651\n"
     ]
    }
   ],
   "source": [
    "print(pd.DataFrame(model.f[:,:,0]))\n",
    "print(model.f[-2,-1,0])"
   ]
  },
  {
   "cell_type": "code",
   "execution_count": 7,
   "metadata": {},
   "outputs": [
    {
     "name": "stdout",
     "output_type": "stream",
     "text": [
      "           LMM           BS     %diff\n",
      "0  2822.788794  2818.200709  0.162802\n"
     ]
    }
   ],
   "source": [
    "amount = 1000000\n",
    "lmm_price = []\n",
    "bs_price = []\n",
    "bs_vol = []\n",
    "lmm_vol = []\n",
    "f = libor_curve.forward_rate(x-0.5,x)\n",
    "df = ois_curve.discount(x)\n",
    "tmp = model.f[-2,-1,:]-f\n",
    "tmp[tmp<0] = 0\n",
    "L = np.mean(tmp)\n",
    "lmm_price.append(L*0.5*amount*df)\n",
    "\n",
    "#vol = vol_func.caplet_vol(0,x-0.5,vol_func.params)\n",
    "vol = vol_func.caplet_vol(0,x-0.5)\n",
    "bs_price.append(vol_boost.black_price(0.5,x,f,f,vol)*0.5*amount*df)\n",
    "lmm_price = np.array(lmm_price)\n",
    "bs_price = np.array(bs_price)\n",
    "print(pd.DataFrame({'LMM':lmm_price,'BS':bs_price,'%diff':(lmm_price/bs_price-1)*100}))"
   ]
  },
  {
   "cell_type": "code",
   "execution_count": 57,
   "metadata": {},
   "outputs": [
    {
     "name": "stdout",
     "output_type": "stream",
     "text": [
      "0.018887645295422417\n",
      "0.018872094389659883\n"
     ]
    }
   ],
   "source": [
    "print(f)\n",
    "print(np.mean(model.f[-2,-1,:]))"
   ]
  },
  {
   "cell_type": "code",
   "execution_count": 27,
   "metadata": {},
   "outputs": [],
   "source": [
    "def caplet_vol(t, T):\n",
    "        T = np.arange(0.5,T+0.5,0.5)\n",
    "        a = vol_func.instant_vol(t,T,vol_func.params)\n",
    "        q = [0.5*v**2 for v in a]\n",
    "        for i, x in enumerate(T):\n",
    "            tmp = np.sqrt(np.sum(q[:i+1])/x)\n",
    "        return tmp"
   ]
  },
  {
   "cell_type": "code",
   "execution_count": 28,
   "metadata": {},
   "outputs": [
    {
     "data": {
      "text/plain": [
       "0.3927406587821774"
      ]
     },
     "execution_count": 28,
     "metadata": {},
     "output_type": "execute_result"
    }
   ],
   "source": [
    "caplet_vol(0,x-0.5)"
   ]
  },
  {
   "cell_type": "code",
   "execution_count": 9,
   "metadata": {},
   "outputs": [
    {
     "data": {
      "text/plain": [
       "0.3182734489592359"
      ]
     },
     "execution_count": 9,
     "metadata": {},
     "output_type": "execute_result"
    }
   ],
   "source": [
    "vol_func.instant_vol(0,5,vol_func.params)"
   ]
  },
  {
   "cell_type": "code",
   "execution_count": null,
   "metadata": {},
   "outputs": [],
   "source": [
    "vol_func.caplet_vol(0,1,vol_func.params)"
   ]
  },
  {
   "cell_type": "code",
   "execution_count": null,
   "metadata": {},
   "outputs": [],
   "source": [
    "t = np.arange(0.5,2,0.5)\n",
    "np.mean(vol_func(0.5,t)*np.sqrt(0.5))/np.sqrt(0.5)"
   ]
  },
  {
   "cell_type": "code",
   "execution_count": null,
   "metadata": {},
   "outputs": [],
   "source": [
    "model.f[:,:,0]"
   ]
  },
  {
   "cell_type": "code",
   "execution_count": null,
   "metadata": {},
   "outputs": [],
   "source": [
    "np.sqrt((0.5)*(vol_func(0,0.5)**2+vol_func(0,1)**2))\n"
   ]
  },
  {
   "cell_type": "code",
   "execution_count": null,
   "metadata": {},
   "outputs": [],
   "source": [
    "vol_func.caplet_vol(0,1,vol_func.params)"
   ]
  },
  {
   "cell_type": "code",
   "execution_count": null,
   "metadata": {},
   "outputs": [],
   "source": [
    "vol_func(0,0.5)"
   ]
  }
 ],
 "metadata": {
  "kernelspec": {
   "display_name": "Python 3",
   "language": "python",
   "name": "python3"
  },
  "language_info": {
   "codemirror_mode": {
    "name": "ipython",
    "version": 3
   },
   "file_extension": ".py",
   "mimetype": "text/x-python",
   "name": "python",
   "nbconvert_exporter": "python",
   "pygments_lexer": "ipython3",
   "version": "3.7.4"
  }
 },
 "nbformat": 4,
 "nbformat_minor": 2
}
